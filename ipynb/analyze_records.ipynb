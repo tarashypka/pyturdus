{
 "cells": [
  {
   "cell_type": "code",
   "execution_count": 1,
   "metadata": {},
   "outputs": [],
   "source": [
    "from pathlib import Path\n",
    "\n",
    "import plotly as pl\n",
    "import plotly.express\n",
    "import plotly.io\n",
    "import numpy as np\n",
    "import pandas as pd\n",
    "import seaborn as sb\n",
    "\n",
    "sb.set()\n",
    "sb.set_style('whitegrid')\n",
    "# Render plotly plots as static images to be displayed on Github\n",
    "pl.io.renderers.default = 'svg'\n",
    "\n",
    "from pysimple.io import from_tsv"
   ]
  },
  {
   "cell_type": "code",
   "execution_count": 2,
   "metadata": {},
   "outputs": [],
   "source": [
    "DATA_DIR = Path('/mnt/storage/tas/data/xeno-canto')"
   ]
  },
  {
   "cell_type": "markdown",
   "metadata": {},
   "source": [
    "### Record columns \n",
    "\n",
    "```\n",
    "id: the catalogue number of the recording on xeno-canto\n",
    "gen: the generic name of the species (genus)\n",
    "sp: the specific name (epithet) of the species (species)\n",
    "ssp: the subspecies name (subspecific epithet)\n",
    "en: the English name of the species\n",
    "rec: the name of the recordist\n",
    "cnt: the country where the recording was made\n",
    "loc: the name of the locality\n",
    "lat: the latitude of the recording in decimal coordinates\n",
    "lng: the longitude of the recording in decimal coordinates\n",
    "type: the sound type of the recording (e.g. 'call', 'song', etc). This is generally a comma-separated list of sound types.\n",
    "url: the URL specifying the details of this recording\n",
    "file: the URL to the audio file\n",
    "file-name: the original file name of the audio file\n",
    "sono: an object with the urls to the four versions of sonograms\n",
    "lic: the URL describing the license of this recording\n",
    "q: the current quality rating for the recording\n",
    "length: the length of the recording in minutes\n",
    "time: the time of day that the recording was made\n",
    "date: the date that the recording was made\n",
    "uploaded: the date that the recording was uploaded to xeno-canto\n",
    "also: an array with the identified background species in the recording\n",
    "rmk: additional remarks by the recordist\n",
    "bird-seen: was the recorded bird visually identified? (yes/no)\n",
    "playback-used: was playback used to lure the bird? (yes/no)\n",
    "```"
   ]
  },
  {
   "cell_type": "code",
   "execution_count": 3,
   "metadata": {},
   "outputs": [],
   "source": [
    "records_path = DATA_DIR / 'records' / 'records.tsv'\n",
    "records = from_tsv(records_path, usecols='gen,sp,cnt,loc,lat,lng,type,q,length,time,date'.split(','))"
   ]
  },
  {
   "cell_type": "markdown",
   "metadata": {},
   "source": [
    "### Countries"
   ]
  },
  {
   "cell_type": "code",
   "execution_count": 4,
   "metadata": {},
   "outputs": [
    {
     "data": {
      "image/svg+xml": [
       "<svg class=\"main-svg\" xmlns=\"http://www.w3.org/2000/svg\" xmlns:xlink=\"http://www.w3.org/1999/xlink\" width=\"700\" height=\"450\" viewBox=\"0 0 700 450\"><rect x=\"0\" y=\"0\" width=\"700\" height=\"450\" style=\"fill: rgb(255, 255, 255); fill-opacity: 1;\"/><defs id=\"defs-169bd9\"><g class=\"clips\"><clipPath id=\"clip169bd9xyplot\" class=\"plotclip\"><rect width=\"453\" height=\"310\"/></clipPath><clipPath class=\"axesclip\" id=\"clip169bd9x\"><rect x=\"167\" y=\"0\" width=\"453\" height=\"450\"/></clipPath><clipPath class=\"axesclip\" id=\"clip169bd9y\"><rect x=\"0\" y=\"60\" width=\"700\" height=\"310\"/></clipPath><clipPath class=\"axesclip\" id=\"clip169bd9xy\"><rect x=\"167\" y=\"60\" width=\"453\" height=\"310\"/></clipPath></g><g class=\"gradients\"/></defs><g class=\"bglayer\"><rect class=\"bg\" x=\"167\" y=\"60\" width=\"453\" height=\"310\" style=\"fill: rgb(229, 236, 246); fill-opacity: 1; stroke-width: 0;\"/></g><g class=\"layer-below\"><g class=\"imagelayer\"/><g class=\"shapelayer\"/></g><g class=\"cartesianlayer\"><g class=\"subplot xy\"><g class=\"layer-subplot\"><g class=\"shapelayer\"/><g class=\"imagelayer\"/></g><g class=\"gridlayer\"><g class=\"x\"><path class=\"xgrid crisp\" transform=\"translate(301.48,0)\" d=\"M0,60v310\" style=\"stroke: rgb(255, 255, 255); stroke-opacity: 1; stroke-width: 1px;\"/><path class=\"xgrid crisp\" transform=\"translate(435.97,0)\" d=\"M0,60v310\" style=\"stroke: rgb(255, 255, 255); stroke-opacity: 1; stroke-width: 1px;\"/><path class=\"xgrid crisp\" transform=\"translate(570.45,0)\" d=\"M0,60v310\" style=\"stroke: rgb(255, 255, 255); stroke-opacity: 1; stroke-width: 1px;\"/></g><g class=\"y\"/></g><g class=\"zerolinelayer\"><path class=\"xzl zl crisp\" transform=\"translate(167,0)\" d=\"M0,60v310\" style=\"stroke: rgb(255, 255, 255); stroke-opacity: 1; stroke-width: 2px;\"/></g><path class=\"xlines-below\"/><path class=\"ylines-below\"/><g class=\"overlines-below\"/><g class=\"xaxislayer-below\"/><g class=\"yaxislayer-below\"/><g class=\"overaxes-below\"/><g class=\"plot\" transform=\"translate(167, 60)\" clip-path=\"url('#clip169bd9xyplot')\"><g class=\"barlayer mlayer\"><g class=\"trace bars\" style=\"opacity: 1;\"><g class=\"points\"><g class=\"point\"><path d=\"M0,303.8V254.2H188.28V303.8Z\" style=\"vector-effect: non-scaling-stroke; opacity: 1; stroke-width: 0.5px; fill: rgb(99, 110, 250); fill-opacity: 1; stroke: rgb(229, 236, 246); stroke-opacity: 1;\"/></g><g class=\"point\"><path d=\"M0,241.8V192.2H268.97V241.8Z\" style=\"vector-effect: non-scaling-stroke; opacity: 1; stroke-width: 0.5px; fill: rgb(99, 110, 250); fill-opacity: 1; stroke: rgb(229, 236, 246); stroke-opacity: 1;\"/></g><g class=\"point\"><path d=\"M0,179.8V130.2H430.35V179.8Z\" style=\"vector-effect: non-scaling-stroke; opacity: 1; stroke-width: 0.5px; fill: rgb(99, 110, 250); fill-opacity: 1; stroke: rgb(229, 236, 246); stroke-opacity: 1;\"/></g><g class=\"point\"><path d=\"M0,117.8V68.2H329.49V117.8Z\" style=\"vector-effect: non-scaling-stroke; opacity: 1; stroke-width: 0.5px; fill: rgb(99, 110, 250); fill-opacity: 1; stroke: rgb(229, 236, 246); stroke-opacity: 1;\"/></g><g class=\"point\"><path d=\"M0,55.8V6.2H100.86V55.8Z\" style=\"vector-effect: non-scaling-stroke; opacity: 1; stroke-width: 0.5px; fill: rgb(99, 110, 250); fill-opacity: 1; stroke: rgb(229, 236, 246); stroke-opacity: 1;\"/></g></g></g></g></g><g class=\"overplot\"/><path class=\"xlines-above crisp\" d=\"M0,0\" style=\"fill: none;\"/><path class=\"ylines-above crisp\" d=\"M0,0\" style=\"fill: none;\"/><g class=\"overlines-above\"/><g class=\"xaxislayer-above\"><g class=\"xtick\"><text text-anchor=\"middle\" x=\"0\" y=\"385\" transform=\"translate(167,0)\" style=\"font-family: 'Courier New', monospace; font-size: 14px; fill: rgb(127, 127, 127); fill-opacity: 1; white-space: pre;\">0</text></g><g class=\"xtick\"><text text-anchor=\"middle\" x=\"0\" y=\"385\" transform=\"translate(301.48,0)\" style=\"font-family: 'Courier New', monospace; font-size: 14px; fill: rgb(127, 127, 127); fill-opacity: 1; white-space: pre;\">20</text></g><g class=\"xtick\"><text text-anchor=\"middle\" x=\"0\" y=\"385\" transform=\"translate(435.97,0)\" style=\"font-family: 'Courier New', monospace; font-size: 14px; fill: rgb(127, 127, 127); fill-opacity: 1; white-space: pre;\">40</text></g><g class=\"xtick\"><text text-anchor=\"middle\" x=\"0\" y=\"385\" transform=\"translate(570.45,0)\" style=\"font-family: 'Courier New', monospace; font-size: 14px; fill: rgb(127, 127, 127); fill-opacity: 1; white-space: pre;\">60</text></g></g><g class=\"yaxislayer-above\"><g class=\"ytick\"><text text-anchor=\"end\" x=\"166\" y=\"4.8999999999999995\" transform=\"translate(0,339)\" style=\"font-family: 'Courier New', monospace; font-size: 14px; fill: rgb(127, 127, 127); fill-opacity: 1; white-space: pre;\">(0, 10]</text></g><g class=\"ytick\"><text text-anchor=\"end\" x=\"166\" y=\"4.8999999999999995\" transform=\"translate(0,277)\" style=\"font-family: 'Courier New', monospace; font-size: 14px; fill: rgb(127, 127, 127); fill-opacity: 1; white-space: pre;\">(10, 100]</text></g><g class=\"ytick\"><text text-anchor=\"end\" x=\"166\" y=\"4.8999999999999995\" transform=\"translate(0,215)\" style=\"font-family: 'Courier New', monospace; font-size: 14px; fill: rgb(127, 127, 127); fill-opacity: 1; white-space: pre;\">(100, 1000]</text></g><g class=\"ytick\"><text text-anchor=\"end\" x=\"166\" y=\"4.8999999999999995\" transform=\"translate(0,153)\" style=\"font-family: 'Courier New', monospace; font-size: 14px; fill: rgb(127, 127, 127); fill-opacity: 1; white-space: pre;\">(1000, 10000]</text></g><g class=\"ytick\"><text text-anchor=\"end\" x=\"166\" y=\"4.8999999999999995\" transform=\"translate(0,91)\" style=\"font-family: 'Courier New', monospace; font-size: 14px; fill: rgb(127, 127, 127); fill-opacity: 1; white-space: pre;\">(10000, 100000]</text></g></g><g class=\"overaxes-above\"/></g></g><g class=\"polarlayer\"/><g class=\"ternarylayer\"/><g class=\"geolayer\"/><g class=\"funnelarealayer\"/><g class=\"pielayer\"/><g class=\"treemaplayer\"/><g class=\"sunburstlayer\"/><g class=\"glimages\"/><defs id=\"topdefs-169bd9\"><g class=\"clips\"/></defs><g class=\"layer-above\"><g class=\"imagelayer\"/><g class=\"shapelayer\"/></g><g class=\"infolayer\"><g class=\"g-gtitle\"><text class=\"gtitle\" x=\"35\" y=\"30\" text-anchor=\"start\" dy=\"0em\" style=\"font-family: 'Courier New', monospace; font-size: 22px; fill: rgb(127, 127, 127); opacity: 1; font-weight: normal; white-space: pre;\">Country vs Number of records from that country</text></g><g class=\"g-xtitle\"><text class=\"xtitle\" x=\"393.5\" y=\"417.3\" text-anchor=\"middle\" style=\"font-family: 'Courier New', monospace; font-size: 19px; fill: rgb(127, 127, 127); opacity: 1; font-weight: normal; white-space: pre;\">Countries</text></g><g class=\"g-ytitle\" transform=\"translate(4.3310546875,0)\"><text class=\"ytitle\" transform=\"rotate(-90,11.668749999999989,215)\" x=\"11.668749999999989\" y=\"215\" text-anchor=\"middle\" style=\"font-family: 'Courier New', monospace; font-size: 19px; fill: rgb(127, 127, 127); opacity: 1; font-weight: normal; white-space: pre;\">Records</text></g></g></svg>"
      ]
     },
     "metadata": {},
     "output_type": "display_data"
    }
   ],
   "source": [
    "data = pd.cut(records['cnt'].value_counts(), bins=[0, 10, 100, 1000, 10000, 100000]).value_counts()\n",
    "data = data.sort_index().reset_index().rename(columns={'cnt': 'Countries', 'index': 'Records'})\n",
    "data['Records'] = data['Records'].astype(str)\n",
    "\n",
    "fig = pl.express.bar(data, x='Countries', y='Records', orientation='h')\n",
    "fig.update_layout(\n",
    "    title='Country vs Number of records from that country',\n",
    "    width=800,\n",
    "    height=200,\n",
    "    xaxis=dict(tickangle=0, tickfont=dict(size=14), title='Countries'),\n",
    "    yaxis=dict(tickfont=dict(size=14), title='Records'),\n",
    "    font=dict(family='Courier New, monospace', size=16, color='#7f7f7f')\n",
    ")\n",
    "fig.show()"
   ]
  },
  {
   "cell_type": "code",
   "execution_count": 5,
   "metadata": {},
   "outputs": [
    {
     "data": {
      "image/svg+xml": [
       "<svg class=\"main-svg\" xmlns=\"http://www.w3.org/2000/svg\" xmlns:xlink=\"http://www.w3.org/1999/xlink\" width=\"700\" height=\"450\" viewBox=\"0 0 700 450\"><rect x=\"0\" y=\"0\" width=\"700\" height=\"450\" style=\"fill: rgb(255, 255, 255); fill-opacity: 1;\"/><defs id=\"defs-88f911\"><g class=\"clips\"><clipPath id=\"clip88f911xyplot\" class=\"plotclip\"><rect width=\"427\" height=\"310\"/></clipPath><clipPath class=\"axesclip\" id=\"clip88f911x\"><rect x=\"193\" y=\"0\" width=\"427\" height=\"450\"/></clipPath><clipPath class=\"axesclip\" id=\"clip88f911y\"><rect x=\"0\" y=\"60\" width=\"700\" height=\"310\"/></clipPath><clipPath class=\"axesclip\" id=\"clip88f911xy\"><rect x=\"193\" y=\"60\" width=\"427\" height=\"310\"/></clipPath></g><g class=\"gradients\"/></defs><g class=\"bglayer\"><rect class=\"bg\" x=\"193\" y=\"60\" width=\"427\" height=\"310\" style=\"fill: rgb(229, 236, 246); fill-opacity: 1; stroke-width: 0;\"/></g><g class=\"layer-below\"><g class=\"imagelayer\"/><g class=\"shapelayer\"/></g><g class=\"cartesianlayer\"><g class=\"subplot xy\"><g class=\"layer-subplot\"><g class=\"shapelayer\"/><g class=\"imagelayer\"/></g><g class=\"gridlayer\"><g class=\"x\"><path class=\"xgrid crisp\" transform=\"translate(266.81,0)\" d=\"M0,60v310\" style=\"stroke: rgb(255, 255, 255); stroke-opacity: 1; stroke-width: 1px;\"/><path class=\"xgrid crisp\" transform=\"translate(340.63,0)\" d=\"M0,60v310\" style=\"stroke: rgb(255, 255, 255); stroke-opacity: 1; stroke-width: 1px;\"/><path class=\"xgrid crisp\" transform=\"translate(414.44,0)\" d=\"M0,60v310\" style=\"stroke: rgb(255, 255, 255); stroke-opacity: 1; stroke-width: 1px;\"/><path class=\"xgrid crisp\" transform=\"translate(488.26,0)\" d=\"M0,60v310\" style=\"stroke: rgb(255, 255, 255); stroke-opacity: 1; stroke-width: 1px;\"/><path class=\"xgrid crisp\" transform=\"translate(562.0699999999999,0)\" d=\"M0,60v310\" style=\"stroke: rgb(255, 255, 255); stroke-opacity: 1; stroke-width: 1px;\"/></g><g class=\"y\"/></g><g class=\"zerolinelayer\"><path class=\"xzl zl crisp\" transform=\"translate(193,0)\" d=\"M0,60v310\" style=\"stroke: rgb(255, 255, 255); stroke-opacity: 1; stroke-width: 2px;\"/></g><path class=\"xlines-below\"/><path class=\"ylines-below\"/><g class=\"overlines-below\"/><g class=\"xaxislayer-below\"/><g class=\"yaxislayer-below\"/><g class=\"overaxes-below\"/><g class=\"plot\" transform=\"translate(193, 60)\" clip-path=\"url('#clip88f911xyplot')\"><g class=\"barlayer mlayer\"><g class=\"trace bars\" style=\"opacity: 1;\"><g class=\"points\"><g class=\"point\"><path d=\"M0,307.93V291.4H77.8V307.93Z\" style=\"vector-effect: non-scaling-stroke; opacity: 1; stroke-width: 0.5px; fill: rgb(99, 110, 250); fill-opacity: 1; stroke: rgb(229, 236, 246); stroke-opacity: 1;\"/></g><g class=\"point\"><path d=\"M0,287.27V270.73H82.32V287.27Z\" style=\"vector-effect: non-scaling-stroke; opacity: 1; stroke-width: 0.5px; fill: rgb(99, 110, 250); fill-opacity: 1; stroke: rgb(229, 236, 246); stroke-opacity: 1;\"/></g><g class=\"point\"><path d=\"M0,266.6V250.07H87.95V266.6Z\" style=\"vector-effect: non-scaling-stroke; opacity: 1; stroke-width: 0.5px; fill: rgb(99, 110, 250); fill-opacity: 1; stroke: rgb(229, 236, 246); stroke-opacity: 1;\"/></g><g class=\"point\"><path d=\"M0,245.93V229.4H94.14V245.93Z\" style=\"vector-effect: non-scaling-stroke; opacity: 1; stroke-width: 0.5px; fill: rgb(99, 110, 250); fill-opacity: 1; stroke: rgb(229, 236, 246); stroke-opacity: 1;\"/></g><g class=\"point\"><path d=\"M0,225.27V208.73H95.68V225.27Z\" style=\"vector-effect: non-scaling-stroke; opacity: 1; stroke-width: 0.5px; fill: rgb(99, 110, 250); fill-opacity: 1; stroke: rgb(229, 236, 246); stroke-opacity: 1;\"/></g><g class=\"point\"><path d=\"M0,204.6V188.07H96.74V204.6Z\" style=\"vector-effect: non-scaling-stroke; opacity: 1; stroke-width: 0.5px; fill: rgb(99, 110, 250); fill-opacity: 1; stroke: rgb(229, 236, 246); stroke-opacity: 1;\"/></g><g class=\"point\"><path d=\"M0,183.93V167.4H113.22V183.93Z\" style=\"vector-effect: non-scaling-stroke; opacity: 1; stroke-width: 0.5px; fill: rgb(99, 110, 250); fill-opacity: 1; stroke: rgb(229, 236, 246); stroke-opacity: 1;\"/></g><g class=\"point\"><path d=\"M0,163.27V146.73H139.86V163.27Z\" style=\"vector-effect: non-scaling-stroke; opacity: 1; stroke-width: 0.5px; fill: rgb(99, 110, 250); fill-opacity: 1; stroke: rgb(229, 236, 246); stroke-opacity: 1;\"/></g><g class=\"point\"><path d=\"M0,142.6V126.07H144.88V142.6Z\" style=\"vector-effect: non-scaling-stroke; opacity: 1; stroke-width: 0.5px; fill: rgb(99, 110, 250); fill-opacity: 1; stroke: rgb(229, 236, 246); stroke-opacity: 1;\"/></g><g class=\"point\"><path d=\"M0,121.93V105.4H161.6V121.93Z\" style=\"vector-effect: non-scaling-stroke; opacity: 1; stroke-width: 0.5px; fill: rgb(99, 110, 250); fill-opacity: 1; stroke: rgb(229, 236, 246); stroke-opacity: 1;\"/></g><g class=\"point\"><path d=\"M0,101.27V84.73H189.07V101.27Z\" style=\"vector-effect: non-scaling-stroke; opacity: 1; stroke-width: 0.5px; fill: rgb(99, 110, 250); fill-opacity: 1; stroke: rgb(229, 236, 246); stroke-opacity: 1;\"/></g><g class=\"point\"><path d=\"M0,80.6V64.07H201.54V80.6Z\" style=\"vector-effect: non-scaling-stroke; opacity: 1; stroke-width: 0.5px; fill: rgb(99, 110, 250); fill-opacity: 1; stroke: rgb(229, 236, 246); stroke-opacity: 1;\"/></g><g class=\"point\"><path d=\"M0,59.93V43.4H218.74V59.93Z\" style=\"vector-effect: non-scaling-stroke; opacity: 1; stroke-width: 0.5px; fill: rgb(99, 110, 250); fill-opacity: 1; stroke: rgb(229, 236, 246); stroke-opacity: 1;\"/></g><g class=\"point\"><path d=\"M0,39.27V22.73H386.52V39.27Z\" style=\"vector-effect: non-scaling-stroke; opacity: 1; stroke-width: 0.5px; fill: rgb(99, 110, 250); fill-opacity: 1; stroke: rgb(229, 236, 246); stroke-opacity: 1;\"/></g><g class=\"point\"><path d=\"M0,18.6V2.07H405.65V18.6Z\" style=\"vector-effect: non-scaling-stroke; opacity: 1; stroke-width: 0.5px; fill: rgb(99, 110, 250); fill-opacity: 1; stroke: rgb(229, 236, 246); stroke-opacity: 1;\"/></g></g></g></g></g><g class=\"overplot\"/><path class=\"xlines-above crisp\" d=\"M0,0\" style=\"fill: none;\"/><path class=\"ylines-above crisp\" d=\"M0,0\" style=\"fill: none;\"/><g class=\"overlines-above\"/><g class=\"xaxislayer-above\"><g class=\"xtick\"><text text-anchor=\"middle\" x=\"0\" y=\"385\" transform=\"translate(193,0)\" style=\"font-family: 'Courier New', monospace; font-size: 14px; fill: rgb(127, 127, 127); fill-opacity: 1; white-space: pre;\">0</text></g><g class=\"xtick\"><text text-anchor=\"middle\" x=\"0\" y=\"385\" transform=\"translate(266.81,0)\" style=\"font-family: 'Courier New', monospace; font-size: 14px; fill: rgb(127, 127, 127); fill-opacity: 1; white-space: pre;\">10k</text></g><g class=\"xtick\"><text text-anchor=\"middle\" x=\"0\" y=\"385\" transform=\"translate(340.63,0)\" style=\"font-family: 'Courier New', monospace; font-size: 14px; fill: rgb(127, 127, 127); fill-opacity: 1; white-space: pre;\">20k</text></g><g class=\"xtick\"><text text-anchor=\"middle\" x=\"0\" y=\"385\" transform=\"translate(414.44,0)\" style=\"font-family: 'Courier New', monospace; font-size: 14px; fill: rgb(127, 127, 127); fill-opacity: 1; white-space: pre;\">30k</text></g><g class=\"xtick\"><text text-anchor=\"middle\" x=\"0\" y=\"385\" transform=\"translate(488.26,0)\" style=\"font-family: 'Courier New', monospace; font-size: 14px; fill: rgb(127, 127, 127); fill-opacity: 1; white-space: pre;\">40k</text></g><g class=\"xtick\"><text text-anchor=\"middle\" x=\"0\" y=\"385\" transform=\"translate(562.0699999999999,0)\" style=\"font-family: 'Courier New', monospace; font-size: 14px; fill: rgb(127, 127, 127); fill-opacity: 1; white-space: pre;\">50k</text></g></g><g class=\"yaxislayer-above\"><g class=\"ytick\"><text text-anchor=\"end\" x=\"192\" y=\"4.8999999999999995\" transform=\"translate(0,359.67)\" style=\"font-family: 'Courier New', monospace; font-size: 14px; fill: rgb(127, 127, 127); fill-opacity: 1; white-space: pre;\">Poland</text></g><g class=\"ytick\"><text text-anchor=\"end\" x=\"192\" y=\"4.8999999999999995\" transform=\"translate(0,339)\" style=\"font-family: 'Courier New', monospace; font-size: 14px; fill: rgb(127, 127, 127); fill-opacity: 1; white-space: pre;\">Indonesia</text></g><g class=\"ytick\"><text text-anchor=\"end\" x=\"192\" y=\"4.8999999999999995\" transform=\"translate(0,318.33)\" style=\"font-family: 'Courier New', monospace; font-size: 14px; fill: rgb(127, 127, 127); fill-opacity: 1; white-space: pre;\">Argentina</text></g><g class=\"ytick\"><text text-anchor=\"end\" x=\"192\" y=\"4.8999999999999995\" transform=\"translate(0,297.66999999999996)\" style=\"font-family: 'Courier New', monospace; font-size: 14px; fill: rgb(127, 127, 127); fill-opacity: 1; white-space: pre;\">India</text></g><g class=\"ytick\"><text text-anchor=\"end\" x=\"192\" y=\"4.8999999999999995\" transform=\"translate(0,277)\" style=\"font-family: 'Courier New', monospace; font-size: 14px; fill: rgb(127, 127, 127); fill-opacity: 1; white-space: pre;\">Russian Federation</text></g><g class=\"ytick\"><text text-anchor=\"end\" x=\"192\" y=\"4.8999999999999995\" transform=\"translate(0,256.33000000000004)\" style=\"font-family: 'Courier New', monospace; font-size: 14px; fill: rgb(127, 127, 127); fill-opacity: 1; white-space: pre;\">France</text></g><g class=\"ytick\"><text text-anchor=\"end\" x=\"192\" y=\"4.8999999999999995\" transform=\"translate(0,235.67)\" style=\"font-family: 'Courier New', monospace; font-size: 14px; fill: rgb(127, 127, 127); fill-opacity: 1; white-space: pre;\">Mexico</text></g><g class=\"ytick\"><text text-anchor=\"end\" x=\"192\" y=\"4.8999999999999995\" transform=\"translate(0,215)\" style=\"font-family: 'Courier New', monospace; font-size: 14px; fill: rgb(127, 127, 127); fill-opacity: 1; white-space: pre;\">Spain</text></g><g class=\"ytick\"><text text-anchor=\"end\" x=\"192\" y=\"4.8999999999999995\" transform=\"translate(0,194.33)\" style=\"font-family: 'Courier New', monospace; font-size: 14px; fill: rgb(127, 127, 127); fill-opacity: 1; white-space: pre;\">Peru</text></g><g class=\"ytick\"><text text-anchor=\"end\" x=\"192\" y=\"4.8999999999999995\" transform=\"translate(0,173.67000000000002)\" style=\"font-family: 'Courier New', monospace; font-size: 14px; fill: rgb(127, 127, 127); fill-opacity: 1; white-space: pre;\">Germany</text></g><g class=\"ytick\"><text text-anchor=\"end\" x=\"192\" y=\"4.8999999999999995\" transform=\"translate(0,153)\" style=\"font-family: 'Courier New', monospace; font-size: 14px; fill: rgb(127, 127, 127); fill-opacity: 1; white-space: pre;\">United Kingdom</text></g><g class=\"ytick\"><text text-anchor=\"end\" x=\"192\" y=\"4.8999999999999995\" transform=\"translate(0,132.32999999999998)\" style=\"font-family: 'Courier New', monospace; font-size: 14px; fill: rgb(127, 127, 127); fill-opacity: 1; white-space: pre;\">Colombia</text></g><g class=\"ytick\"><text text-anchor=\"end\" x=\"192\" y=\"4.8999999999999995\" transform=\"translate(0,111.67)\" style=\"font-family: 'Courier New', monospace; font-size: 14px; fill: rgb(127, 127, 127); fill-opacity: 1; white-space: pre;\">Ecuador</text></g><g class=\"ytick\"><text text-anchor=\"end\" x=\"192\" y=\"4.8999999999999995\" transform=\"translate(0,91)\" style=\"font-family: 'Courier New', monospace; font-size: 14px; fill: rgb(127, 127, 127); fill-opacity: 1; white-space: pre;\">United States</text></g><g class=\"ytick\"><text text-anchor=\"end\" x=\"192\" y=\"4.8999999999999995\" transform=\"translate(0,70.33)\" style=\"font-family: 'Courier New', monospace; font-size: 14px; fill: rgb(127, 127, 127); fill-opacity: 1; white-space: pre;\">Brazil</text></g></g><g class=\"overaxes-above\"/></g></g><g class=\"polarlayer\"/><g class=\"ternarylayer\"/><g class=\"geolayer\"/><g class=\"funnelarealayer\"/><g class=\"pielayer\"/><g class=\"treemaplayer\"/><g class=\"sunburstlayer\"/><g class=\"glimages\"/><defs id=\"topdefs-88f911\"><g class=\"clips\"/></defs><g class=\"layer-above\"><g class=\"imagelayer\"/><g class=\"shapelayer\"/></g><g class=\"infolayer\"><g class=\"g-gtitle\"><text class=\"gtitle\" x=\"35\" y=\"30\" text-anchor=\"start\" dy=\"0em\" style=\"font-family: 'Courier New', monospace; font-size: 22px; fill: rgb(127, 127, 127); opacity: 1; font-weight: normal; white-space: pre;\">Countries with most records</text></g><g class=\"g-xtitle\"><text class=\"xtitle\" x=\"406.5\" y=\"417.3\" text-anchor=\"middle\" style=\"font-family: 'Courier New', monospace; font-size: 19px; fill: rgb(127, 127, 127); opacity: 1; font-weight: normal; white-space: pre;\">Records</text></g><g class=\"g-ytitle\"/></g></svg>"
      ]
     },
     "metadata": {},
     "output_type": "display_data"
    }
   ],
   "source": [
    "records['cntRecords'] = records['cnt'].map(records['cnt'].value_counts())\n",
    "data = records.drop_duplicates('cnt').query('10000 < cntRecords <= 100000')[['cnt', 'cntRecords']].sort_values('cntRecords')\n",
    "\n",
    "fig = pl.express.bar(data, x='cntRecords', y='cnt', orientation='h')\n",
    "fig.update_layout(\n",
    "    title='Countries with most records',\n",
    "    width=800,\n",
    "    height=400,\n",
    "    xaxis=dict(tickfont=dict(size=14), title='Records'),\n",
    "    yaxis=dict(tickfont=dict(size=14), title=''),\n",
    "    font=dict(family='Courier New, monospace', size=16, color='#7f7f7f')\n",
    ")\n",
    "fig.show()"
   ]
  },
  {
   "cell_type": "code",
   "execution_count": null,
   "metadata": {},
   "outputs": [],
   "source": []
  }
 ],
 "metadata": {
  "kernelspec": {
   "display_name": "Python 3",
   "language": "python",
   "name": "python3"
  },
  "language_info": {
   "codemirror_mode": {
    "name": "ipython",
    "version": 3
   },
   "file_extension": ".py",
   "mimetype": "text/x-python",
   "name": "python",
   "nbconvert_exporter": "python",
   "pygments_lexer": "ipython3",
   "version": "3.7.7"
  }
 },
 "nbformat": 4,
 "nbformat_minor": 4
}
